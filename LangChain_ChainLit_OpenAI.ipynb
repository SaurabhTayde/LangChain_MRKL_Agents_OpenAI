{
 "cells": [
  {
   "cell_type": "markdown",
   "metadata": {},
   "source": [
    "<a target=\"_blank\" href=\"https://colab.research.google.com/github/sudarshan-koirala/langchain-falcon-chainlit/blob/main/langchain_falcon.ipynb\">\n",
    "  <img src=\"https://colab.research.google.com/assets/colab-badge.svg\" alt=\"Open In Colab\"/>\n",
    "</a>"
   ]
  },
  {
   "cell_type": "code",
   "execution_count": 1,
   "metadata": {},
   "outputs": [
    {
     "name": "stdout",
     "output_type": "stream",
     "text": [
      "Requirement already satisfied: langchain in /home/saurabhtayde/anaconda3/lib/python3.8/site-packages (0.0.218)\n",
      "Requirement already satisfied: watermark in /home/saurabhtayde/anaconda3/lib/python3.8/site-packages (2.4.2)\n",
      "Requirement already satisfied: openai in /home/saurabhtayde/anaconda3/lib/python3.8/site-packages (0.27.8)\n",
      "Requirement already satisfied: requests<3,>=2 in /home/saurabhtayde/anaconda3/lib/python3.8/site-packages (from langchain) (2.27.1)\n",
      "Requirement already satisfied: dataclasses-json<0.6.0,>=0.5.7 in /home/saurabhtayde/anaconda3/lib/python3.8/site-packages (from langchain) (0.5.8)\n",
      "Requirement already satisfied: async-timeout<5.0.0,>=4.0.0 in /home/saurabhtayde/anaconda3/lib/python3.8/site-packages (from langchain) (4.0.2)\n",
      "Requirement already satisfied: SQLAlchemy<3,>=1.4 in /home/saurabhtayde/anaconda3/lib/python3.8/site-packages (from langchain) (1.4.15)\n",
      "Requirement already satisfied: numexpr<3.0.0,>=2.8.4 in /home/saurabhtayde/anaconda3/lib/python3.8/site-packages (from langchain) (2.8.4)\n",
      "Requirement already satisfied: PyYAML>=5.4.1 in /home/saurabhtayde/anaconda3/lib/python3.8/site-packages (from langchain) (5.4.1)\n",
      "Requirement already satisfied: pydantic<2,>=1 in /home/saurabhtayde/anaconda3/lib/python3.8/site-packages (from langchain) (1.10.9)\n",
      "Requirement already satisfied: numpy<2,>=1 in /home/saurabhtayde/anaconda3/lib/python3.8/site-packages (from langchain) (1.23.1)\n",
      "Requirement already satisfied: aiohttp<4.0.0,>=3.8.3 in /home/saurabhtayde/anaconda3/lib/python3.8/site-packages (from langchain) (3.8.4)\n",
      "Requirement already satisfied: tenacity<9.0.0,>=8.1.0 in /home/saurabhtayde/anaconda3/lib/python3.8/site-packages (from langchain) (8.2.2)\n",
      "Requirement already satisfied: langchainplus-sdk>=0.0.17 in /home/saurabhtayde/anaconda3/lib/python3.8/site-packages (from langchain) (0.0.17)\n",
      "Requirement already satisfied: openapi-schema-pydantic<2.0,>=1.2 in /home/saurabhtayde/anaconda3/lib/python3.8/site-packages (from langchain) (1.2.4)\n",
      "Requirement already satisfied: attrs>=17.3.0 in /home/saurabhtayde/anaconda3/lib/python3.8/site-packages (from aiohttp<4.0.0,>=3.8.3->langchain) (20.3.0)\n",
      "Requirement already satisfied: multidict<7.0,>=4.5 in /home/saurabhtayde/anaconda3/lib/python3.8/site-packages (from aiohttp<4.0.0,>=3.8.3->langchain) (6.0.2)\n",
      "Requirement already satisfied: yarl<2.0,>=1.0 in /home/saurabhtayde/anaconda3/lib/python3.8/site-packages (from aiohttp<4.0.0,>=3.8.3->langchain) (1.8.1)\n",
      "Requirement already satisfied: frozenlist>=1.1.1 in /home/saurabhtayde/anaconda3/lib/python3.8/site-packages (from aiohttp<4.0.0,>=3.8.3->langchain) (1.3.1)\n",
      "Requirement already satisfied: charset-normalizer<4.0,>=2.0 in /home/saurabhtayde/anaconda3/lib/python3.8/site-packages (from aiohttp<4.0.0,>=3.8.3->langchain) (2.0.9)\n",
      "Requirement already satisfied: aiosignal>=1.1.2 in /home/saurabhtayde/anaconda3/lib/python3.8/site-packages (from aiohttp<4.0.0,>=3.8.3->langchain) (1.2.0)\n",
      "Requirement already satisfied: marshmallow<4.0.0,>=3.3.0 in /home/saurabhtayde/anaconda3/lib/python3.8/site-packages (from dataclasses-json<0.6.0,>=0.5.7->langchain) (3.19.0)\n",
      "Requirement already satisfied: typing-inspect>=0.4.0 in /home/saurabhtayde/anaconda3/lib/python3.8/site-packages (from dataclasses-json<0.6.0,>=0.5.7->langchain) (0.8.0)\n",
      "Requirement already satisfied: marshmallow-enum<2.0.0,>=1.5.1 in /home/saurabhtayde/anaconda3/lib/python3.8/site-packages (from dataclasses-json<0.6.0,>=0.5.7->langchain) (1.5.1)\n",
      "Requirement already satisfied: packaging>=17.0 in /home/saurabhtayde/anaconda3/lib/python3.8/site-packages (from marshmallow<4.0.0,>=3.3.0->dataclasses-json<0.6.0,>=0.5.7->langchain) (23.1)\n",
      "Requirement already satisfied: typing-extensions>=4.2.0 in /home/saurabhtayde/anaconda3/lib/python3.8/site-packages (from pydantic<2,>=1->langchain) (4.5.0)\n",
      "Requirement already satisfied: urllib3<1.27,>=1.21.1 in /home/saurabhtayde/anaconda3/lib/python3.8/site-packages (from requests<3,>=2->langchain) (1.25.11)\n",
      "Requirement already satisfied: certifi>=2017.4.17 in /home/saurabhtayde/anaconda3/lib/python3.8/site-packages (from requests<3,>=2->langchain) (2020.12.5)\n",
      "Requirement already satisfied: idna<4,>=2.5 in /home/saurabhtayde/anaconda3/lib/python3.8/site-packages (from requests<3,>=2->langchain) (2.10)\n",
      "Requirement already satisfied: greenlet!=0.4.17 in /home/saurabhtayde/anaconda3/lib/python3.8/site-packages (from SQLAlchemy<3,>=1.4->langchain) (1.0.0)\n",
      "Requirement already satisfied: mypy-extensions>=0.3.0 in /home/saurabhtayde/anaconda3/lib/python3.8/site-packages (from typing-inspect>=0.4.0->dataclasses-json<0.6.0,>=0.5.7->langchain) (0.4.3)\n",
      "Requirement already satisfied: tqdm in /home/saurabhtayde/anaconda3/lib/python3.8/site-packages (from openai) (4.64.1)\n",
      "Requirement already satisfied: setuptools in /home/saurabhtayde/anaconda3/lib/python3.8/site-packages (from watermark) (52.0.0.post20210125)\n",
      "Requirement already satisfied: py3nvml>=0.2 in /home/saurabhtayde/anaconda3/lib/python3.8/site-packages (from watermark) (0.2.7)\n",
      "Requirement already satisfied: ipython>=6.0 in /home/saurabhtayde/anaconda3/lib/python3.8/site-packages (from watermark) (7.22.0)\n",
      "Requirement already satisfied: importlib-metadata>=1.4 in /home/saurabhtayde/anaconda3/lib/python3.8/site-packages (from watermark) (6.0.1)\n",
      "Requirement already satisfied: zipp>=0.5 in /home/saurabhtayde/.local/lib/python3.8/site-packages (from importlib-metadata>=1.4->watermark) (3.7.0)\n",
      "Requirement already satisfied: backcall in /home/saurabhtayde/anaconda3/lib/python3.8/site-packages (from ipython>=6.0->watermark) (0.2.0)\n",
      "Requirement already satisfied: pickleshare in /home/saurabhtayde/anaconda3/lib/python3.8/site-packages (from ipython>=6.0->watermark) (0.7.5)\n",
      "Requirement already satisfied: decorator in /home/saurabhtayde/anaconda3/lib/python3.8/site-packages (from ipython>=6.0->watermark) (5.0.6)\n",
      "Requirement already satisfied: traitlets>=4.2 in /home/saurabhtayde/anaconda3/lib/python3.8/site-packages (from ipython>=6.0->watermark) (5.0.5)\n",
      "Requirement already satisfied: pexpect>4.3 in /home/saurabhtayde/anaconda3/lib/python3.8/site-packages (from ipython>=6.0->watermark) (4.8.0)\n",
      "Requirement already satisfied: jedi>=0.16 in /home/saurabhtayde/anaconda3/lib/python3.8/site-packages (from ipython>=6.0->watermark) (0.17.2)\n",
      "Requirement already satisfied: pygments in /home/saurabhtayde/anaconda3/lib/python3.8/site-packages (from ipython>=6.0->watermark) (2.14.0)\n",
      "Requirement already satisfied: prompt-toolkit!=3.0.0,!=3.0.1,<3.1.0,>=2.0.0 in /home/saurabhtayde/anaconda3/lib/python3.8/site-packages (from ipython>=6.0->watermark) (3.0.17)\n",
      "Requirement already satisfied: parso<0.8.0,>=0.7.0 in /home/saurabhtayde/anaconda3/lib/python3.8/site-packages (from jedi>=0.16->ipython>=6.0->watermark) (0.7.0)\n",
      "Requirement already satisfied: ptyprocess>=0.5 in /home/saurabhtayde/anaconda3/lib/python3.8/site-packages (from pexpect>4.3->ipython>=6.0->watermark) (0.7.0)\n",
      "Requirement already satisfied: wcwidth in /home/saurabhtayde/anaconda3/lib/python3.8/site-packages (from prompt-toolkit!=3.0.0,!=3.0.1,<3.1.0,>=2.0.0->ipython>=6.0->watermark) (0.2.5)\n",
      "Requirement already satisfied: xmltodict in /home/saurabhtayde/anaconda3/lib/python3.8/site-packages (from py3nvml>=0.2->watermark) (0.12.0)\n",
      "Requirement already satisfied: ipython-genutils in /home/saurabhtayde/anaconda3/lib/python3.8/site-packages (from traitlets>=4.2->ipython>=6.0->watermark) (0.2.0)\n"
     ]
    }
   ],
   "source": [
    "#%%capture\n",
    "#%pip install langchain huggingface_hub watermark\n",
    "! pip install langchain watermark openai"
   ]
  },
  {
   "cell_type": "code",
   "execution_count": 2,
   "metadata": {},
   "outputs": [
    {
     "name": "stdout",
     "output_type": "stream",
     "text": [
      "Author: Saurabh Tayde\n",
      "\n",
      "Python implementation: CPython\n",
      "Python version       : 3.8.8\n",
      "IPython version      : 7.22.0\n",
      "\n",
      "langchain: 0.0.218\n",
      "\n",
      "Compiler    : GCC 7.3.0\n",
      "OS          : Linux\n",
      "Release     : 5.15.0-75-generic\n",
      "Machine     : x86_64\n",
      "Processor   : x86_64\n",
      "CPU cores   : 8\n",
      "Architecture: 64bit\n",
      "\n"
     ]
    }
   ],
   "source": [
    "%load_ext watermark\n",
    "%watermark -a \"Saurabh Tayde\" -vmp langchain"
   ]
  },
  {
   "cell_type": "code",
   "execution_count": 3,
   "metadata": {},
   "outputs": [
    {
     "name": "stdout",
     "output_type": "stream",
     "text": [
      "········\n"
     ]
    }
   ],
   "source": [
    "# get your Huggingface access token from https://huggingface.co/settings/tokens 🔑\n",
    "from getpass import getpass\n",
    "import os\n",
    "\n",
    "\n",
    "OPENAI_API_TOKEN = getpass()\n",
    "os.environ[\"OPENAI_API_KEY\"] = OPENAI_API_TOKEN   "
   ]
  },
  {
   "cell_type": "markdown",
   "metadata": {},
   "source": [
    "#### Let's use Open AI's GPT 3.5 Turbo model"
   ]
  },
  {
   "cell_type": "code",
   "execution_count": 4,
   "metadata": {},
   "outputs": [],
   "source": [
    "from langchain.chat_models import ChatOpenAI\n",
    "\n",
    "# repo_id = \"tiiuae/falcon-7b-instruct\"\n",
    "# llm = HuggingFaceHub(huggingfacehub_api_token=HUGGINGFACE_API_TOKEN, \n",
    "#                      repo_id=repo_id, \n",
    "#                      model_kwargs={\"temperature\":0.7, \"max_new_tokens\":700})\n",
    "\n",
    "llm = ChatOpenAI(\n",
    "    temperature=0,\n",
    "    model_name='gpt-3.5-turbo'\n",
    ")"
   ]
  },
  {
   "cell_type": "code",
   "execution_count": 5,
   "metadata": {},
   "outputs": [
    {
     "name": "stdout",
     "output_type": "stream",
     "text": [
      "\n",
      "\n",
      "\u001b[1m> Entering new  chain...\u001b[0m\n",
      "Prompt after formatting:\n",
      "\u001b[32;1m\u001b[1;3m\n",
      "You are a helpful AI assistant and provide the answer for the question asked politely.\n",
      "\n",
      "I am 5 years old. How can I become World Number One Chess Player in future?\n",
      "Answer: Let's think step by step.\n",
      "\u001b[0m\n",
      "\n",
      "\u001b[1m> Finished chain.\u001b[0m\n",
      "Becoming a world number one chess player is a great goal to have! Here are some steps you can take to work towards achieving it:\n",
      "\n",
      "1. Start by learning the basics of chess: Begin by understanding the rules of the game and how each piece moves. You can find many resources online or consider joining a chess club or taking lessons.\n",
      "\n",
      "2. Practice regularly: Dedicate time each day to practice playing chess. This will help you improve your skills and develop a deeper understanding of the game. You can play against friends, family members, or even online opponents.\n",
      "\n",
      "3. Study famous chess games: Learn from the strategies and tactics used by top chess players. Analyze their moves and try to understand the reasoning behind them. This will help you develop your own strategic thinking.\n",
      "\n",
      "4. Read books and watch tutorials: There are many books and online tutorials available that can teach you advanced chess techniques and strategies. Take advantage of these resources to expand your knowledge and improve your game.\n",
      "\n",
      "5. Participate in tournaments: As you progress, start participating in local chess tournaments. This will give you valuable experience and help you gauge your progress against other players.\n",
      "\n",
      "6. Seek guidance from a chess coach: Consider finding a chess coach who can provide personalized guidance and help you improve your skills. They can analyze your games, identify areas for improvement, and provide valuable advice.\n",
      "\n",
      "7. Stay motivated and persistent: Becoming a world number one chess player takes time and dedication. Stay motivated, practice regularly, and never give up on your goal.\n",
      "\n",
      "Remember, becoming a world number one chess player is a long-term goal that requires continuous effort and improvement. Enjoy the journey and have fun playing chess!\n"
     ]
    }
   ],
   "source": [
    "from langchain import PromptTemplate, LLMChain\n",
    "\n",
    "template = \"\"\"\n",
    "You are a helpful AI assistant and provide the answer for the question asked politely.\n",
    "\n",
    "{question}\n",
    "Answer: Let's think step by step.\n",
    "\"\"\"\n",
    "prompt = PromptTemplate(template=template, input_variables=[\"question\"])\n",
    "llm_chain = LLMChain(prompt=prompt, llm=llm, verbose = True)\n",
    "\n",
    "question = \"I am 5 years old. How can I become World Number One Chess Player in future?\"\n",
    "\n",
    "print(llm_chain.run(question))"
   ]
  },
  {
   "cell_type": "code",
   "execution_count": null,
   "metadata": {},
   "outputs": [],
   "source": []
  }
 ],
 "metadata": {
  "kernelspec": {
   "display_name": "Python 3",
   "language": "python",
   "name": "python3"
  },
  "language_info": {
   "codemirror_mode": {
    "name": "ipython",
    "version": 3
   },
   "file_extension": ".py",
   "mimetype": "text/x-python",
   "name": "python",
   "nbconvert_exporter": "python",
   "pygments_lexer": "ipython3",
   "version": "3.8.8"
  }
 },
 "nbformat": 4,
 "nbformat_minor": 2
}
